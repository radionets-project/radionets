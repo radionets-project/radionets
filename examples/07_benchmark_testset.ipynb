{
 "cells": [
  {
   "cell_type": "markdown",
   "metadata": {},
   "source": [
    "# Benchmark Data Set\n",
    "\n",
    "In this notebook, we explain how we create the benchmark testset for comparing different architectures and approaches. We will create two data sets consisting of 10.000 extended Gaussian sources with varying sampling masks. One of them with additional noise corruption on the images, the other one without.\n",
    "\n",
    "* Fourier\n",
    "* Amp_Phase\n",
    "* Interpolation"
   ]
  },
  {
   "cell_type": "code",
   "execution_count": 2,
   "metadata": {},
   "outputs": [],
   "source": [
    "import toml\n",
    "from radionets.simulations.utils import read_config, check_outpath, adjust_outpath, add_noise\n",
    "from radionets.simulations.gaussians import create_grid, create_ext_gauss_bundle\n",
    "from radionets.simulations.simulate import sample_fft_images\n",
    "from radionets.dl_framework.data import save_fft_pair\n",
    "import numpy as np\n",
    "import h5py\n",
    "from tqdm import tqdm\n",
    "from pathlib import Path\n",
    "import re"
   ]
  },
  {
   "cell_type": "markdown",
   "metadata": {},
   "source": [
    "### Configuration"
   ]
  },
  {
   "cell_type": "code",
   "execution_count": 11,
   "metadata": {},
   "outputs": [
    {
     "name": "stdout",
     "output_type": "stream",
     "text": [
      "Create fft_images from gaussian data set! \n",
      "\n",
      "Adding extended gaussian sources.\n"
     ]
    }
   ],
   "source": [
    "config = toml.load(\"./.rc/benchmark/sim_benchmark.toml\")\n",
    "sim_conf = read_config(config)\n",
    "\n",
    "# specify data_path\n",
    "sim_conf[\"data_path\"] = \"../../noise/benchmark_data\"\n",
    "\n",
    "sim_fft, sim_sampled = check_outpath(\n",
    "    sim_conf[\"data_path\"],\n",
    "    data_format=config[\"paths\"][\"data_format\"],\n",
    "    quiet=config[\"mode\"][\"quiet\"],\n",
    ")"
   ]
  },
  {
   "cell_type": "code",
   "execution_count": null,
   "metadata": {},
   "outputs": [],
   "source": [
    "noise_level = 30"
   ]
  },
  {
   "cell_type": "code",
   "execution_count": 13,
   "metadata": {},
   "outputs": [],
   "source": [
    "sim_conf['bundles_test'] = 20\n",
    "sim_conf['bundle_size'] = 500"
   ]
  },
  {
   "cell_type": "markdown",
   "metadata": {},
   "source": [
    "### Start Simulation"
   ]
  },
  {
   "cell_type": "code",
   "execution_count": 14,
   "metadata": {},
   "outputs": [],
   "source": [
    "data_path=sim_conf[\"data_path\"]\n",
    "option=\"test\"\n",
    "num_bundles=sim_conf[\"bundles_test\"]\n",
    "bundle_size=sim_conf[\"bundle_size\"]\n",
    "img_size=sim_conf[\"img_size\"]\n",
    "num_comp_ext=sim_conf[\"num_components\"]\n",
    "num_pointlike=sim_conf[\"num_pointlike_gaussians\"]\n",
    "num_pointsources=sim_conf[\"num_pointsources\"]\n",
    "noise=sim_conf[\"noise\"]\n",
    "source_list=sim_conf[\"source_list\"]"
   ]
  },
  {
   "cell_type": "code",
   "execution_count": 15,
   "metadata": {},
   "outputs": [],
   "source": [
    "np.random.seed(1337)"
   ]
  },
  {
   "cell_type": "code",
   "execution_count": 16,
   "metadata": {},
   "outputs": [
    {
     "name": "stderr",
     "output_type": "stream",
     "text": [
      "100%|██████████| 10/10 [00:03<00:00,  2.71it/s]\n"
     ]
    }
   ],
   "source": [
    "# create source images\n",
    "for i in tqdm(range(num_bundles)):\n",
    "    grid = create_grid(img_size, bundle_size)\n",
    "    ext_gaussian = 0\n",
    "    pointlike = 0\n",
    "    pointsource = 0\n",
    "    list_sources = 0\n",
    "\n",
    "    if num_comp_ext is not None:\n",
    "        ext_gaussian = create_ext_gauss_bundle(grid)\n",
    "    if num_pointlike is not None:\n",
    "        pointlike = create_gauss(\n",
    "            grid[:, 0], bundle_size, num_pointlike, True, source_list\n",
    "        )\n",
    "    if num_pointsources is not None:\n",
    "        pointsource = gauss_pointsources(grid[:, 0], bundle_size, num_pointsources)\n",
    "    if source_list:\n",
    "        list_sources = pointlike[1]\n",
    "        pointlike = pointlike[0]\n",
    "\n",
    "    bundle = ext_gaussian + pointlike + pointsource\n",
    "    images = bundle.copy()\n",
    "\n",
    "    path = adjust_outpath(data_path, \"/source_\" + option)\n",
    "\n",
    "    with h5py.File(path, \"w\") as hf:\n",
    "        hf.create_dataset(\"sources\", data=bundle)"
   ]
  },
  {
   "cell_type": "code",
   "execution_count": 17,
   "metadata": {},
   "outputs": [],
   "source": [
    "# use source images and create fft versions without noise\n",
    "\n",
    "# get source paths\n",
    "source_path = Path(sim_conf[\"data_path\"])\n",
    "s_paths = np.array([x for x in source_path.iterdir()])\n",
    "s_paths = [\n",
    "    path for path in s_paths if re.findall(f\"source_test\", path.name)\n",
    "]\n",
    "\n",
    "# create and save fft without noise\n",
    "for p in s_paths:\n",
    "    f = h5py.File(p, \"r\")\n",
    "    s = np.array(f[\"sources\"])\n",
    "    images = s.copy()\n",
    "    bundle_fft = np.array([np.fft.fftshift(np.fft.fft2(img)) for img in images])\n",
    "    out = p.parent/\"clean\"/p.name.replace(\"source\", \"fft\")\n",
    "    out.parent.mkdir(exist_ok=True)\n",
    "    save_fft_pair(out, bundle_fft, s)\n",
    "    f.close()\n",
    "\n",
    "# create and save fft with noise\n",
    "for p in s_paths:\n",
    "    f = h5py.File(p, \"r\")\n",
    "    s = np.array(f[\"sources\"])\n",
    "    images = s.copy()\n",
    "    images = add_noise(images, noise_level)\n",
    "    bundle_fft = np.array([np.fft.fftshift(np.fft.fft2(img)) for img in images])\n",
    "    out = p.parent/\"noise\"/p.name.replace(\"source\", \"fft\")\n",
    "    out.parent.mkdir(exist_ok=True)\n",
    "    save_fft_pair(out, bundle_fft, s)\n",
    "    f.close()"
   ]
  },
  {
   "cell_type": "markdown",
   "metadata": {},
   "source": [
    "### Sampling Frequencies"
   ]
  },
  {
   "cell_type": "code",
   "execution_count": 8,
   "metadata": {},
   "outputs": [
    {
     "name": "stderr",
     "output_type": "stream",
     "text": [
      "0it [00:00, ?it/s]\n",
      "0it [00:00, ?it/s]\n",
      "  0%|          | 0/20 [00:00<?, ?it/s]"
     ]
    },
    {
     "name": "stdout",
     "output_type": "stream",
     "text": [
      "\n",
      " Sampling train data set.\n",
      "\n",
      "\n",
      " No train data set fft images available.\n",
      "\n",
      "\n",
      " Sampling valid data set.\n",
      "\n",
      "\n",
      " No valid data set fft images available.\n",
      "\n",
      "\n",
      " Sampling test data set.\n",
      "\n"
     ]
    },
    {
     "name": "stderr",
     "output_type": "stream",
     "text": [
      "100%|██████████| 20/20 [06:34<00:00, 19.73s/it]\n"
     ]
    }
   ],
   "source": [
    "sim_conf[\"data_path\"] = \"../../noise/benchmark_data/clean/\"\n",
    "sample_fft_images(sim_conf)"
   ]
  },
  {
   "cell_type": "code",
   "execution_count": 18,
   "metadata": {},
   "outputs": [
    {
     "name": "stderr",
     "output_type": "stream",
     "text": [
      "0it [00:00, ?it/s]\n",
      "0it [00:00, ?it/s]\n",
      "  0%|          | 0/10 [00:00<?, ?it/s]"
     ]
    },
    {
     "name": "stdout",
     "output_type": "stream",
     "text": [
      "\n",
      " Sampling train data set.\n",
      "\n",
      "\n",
      " No train data set fft images available.\n",
      "\n",
      "\n",
      " Sampling valid data set.\n",
      "\n",
      "\n",
      " No valid data set fft images available.\n",
      "\n",
      "\n",
      " Sampling test data set.\n",
      "\n"
     ]
    },
    {
     "name": "stderr",
     "output_type": "stream",
     "text": [
      "100%|██████████| 10/10 [03:14<00:00, 19.42s/it]\n"
     ]
    }
   ],
   "source": [
    "sim_conf[\"data_path\"] = \"../../noise/benchmark_data/noise/\"\n",
    "sample_fft_images(sim_conf)"
   ]
  },
  {
   "cell_type": "code",
   "execution_count": null,
   "metadata": {},
   "outputs": [],
   "source": []
  },
  {
   "cell_type": "code",
   "execution_count": null,
   "metadata": {},
   "outputs": [],
   "source": []
  },
  {
   "cell_type": "code",
   "execution_count": 10,
   "metadata": {},
   "outputs": [
    {
     "data": {
      "text/plain": [
       "{'data_path': '../../noise/benchmark_data/noise/',\n",
       " 'data_format': 'h5',\n",
       " 'type': 'gaussians',\n",
       " 'num_pointsources': None,\n",
       " 'num_pointlike_gaussians': None,\n",
       " 'num_components': [4, 10],\n",
       " 'bundles_train': 0,\n",
       " 'bundles_valid': 0,\n",
       " 'bundles_test': 20,\n",
       " 'bundle_size': 500,\n",
       " 'img_size': 63,\n",
       " 'noise': False,\n",
       " 'amp_phase': True,\n",
       " 'real_imag': False,\n",
       " 'source_list': False,\n",
       " 'antenna_config': 'vlba',\n",
       " 'specific_mask': False,\n",
       " 'lon': -80,\n",
       " 'lat': 50,\n",
       " 'steps': 50,\n",
       " 'fourier': True,\n",
       " 'compressed': False,\n",
       " 'keep_fft_files': True,\n",
       " 'interpolation': True}"
      ]
     },
     "execution_count": 10,
     "metadata": {},
     "output_type": "execute_result"
    }
   ],
   "source": [
    "sim_conf"
   ]
  },
  {
   "cell_type": "code",
   "execution_count": 11,
   "metadata": {},
   "outputs": [],
   "source": [
    "import matplotlib.pyplot as plt"
   ]
  },
  {
   "cell_type": "code",
   "execution_count": 12,
   "metadata": {},
   "outputs": [],
   "source": [
    "file = h5py.File(\"../../noise/benchmark_data/noise/samp_test1.h5\", mode=\"r\")"
   ]
  },
  {
   "cell_type": "code",
   "execution_count": 13,
   "metadata": {},
   "outputs": [
    {
     "data": {
      "text/plain": [
       "(500, 2, 63, 63)"
      ]
     },
     "execution_count": 13,
     "metadata": {},
     "output_type": "execute_result"
    }
   ],
   "source": [
    "x = file[\"x\"]\n",
    "y = file[\"y\"]\n",
    "x.shape"
   ]
  },
  {
   "cell_type": "code",
   "execution_count": 14,
   "metadata": {},
   "outputs": [
    {
     "data": {
      "text/plain": [
       "<matplotlib.image.AxesImage at 0x7f40691c8190>"
      ]
     },
     "execution_count": 14,
     "metadata": {},
     "output_type": "execute_result"
    },
    {
     "data": {
      "image/png": "[encoded data removed]",
      "text/plain": [
       "<Figure size 432x288 with 1 Axes>"
      ]
     },
     "metadata": {
      "needs_background": "light"
     },
     "output_type": "display_data"
    }
   ],
   "source": [
    "plt.imshow(np.abs(x[9][0]))"
   ]
  },
  {
   "cell_type": "code",
   "execution_count": 15,
   "metadata": {},
   "outputs": [
    {
     "data": {
      "text/plain": [
       "<matplotlib.image.AxesImage at 0x7f40691261f0>"
      ]
     },
     "execution_count": 15,
     "metadata": {},
     "output_type": "execute_result"
    },
    {
     "data": {
      "image/png": "[encoded data removed]",
      "text/plain": [
       "<Figure size 432x288 with 1 Axes>"
      ]
     },
     "metadata": {
      "needs_background": "light"
     },
     "output_type": "display_data"
    }
   ],
   "source": [
    "plt.imshow(np.abs(y[9][0]))"
   ]
  },
  {
   "cell_type": "code",
   "execution_count": null,
   "metadata": {},
   "outputs": [],
   "source": []
  }
 ],
 "metadata": {
  "kernelspec": {
   "display_name": "radionet_kernel",
   "language": "python",
   "name": "radionet_kernel"
  },
  "language_info": {
   "codemirror_mode": {
    "name": "ipython",
    "version": 3
   },
   "file_extension": ".py",
   "mimetype": "text/x-python",
   "name": "python",
   "nbconvert_exporter": "python",
   "pygments_lexer": "ipython3",
   "version": "3.7.4"
  }
 },
 "nbformat": 4,
 "nbformat_minor": 4
}
